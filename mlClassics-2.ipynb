{
 "cells": [
  {
   "cell_type": "code",
   "execution_count": 2,
   "source": [
    "#flower classification using support vector machine(SVM)"
   ],
   "outputs": [],
   "metadata": {}
  },
  {
   "cell_type": "code",
   "execution_count": 2,
   "source": [
    "#importing libraries\r\n",
    "from sklearn import datasets\r\n",
    "from sklearn.model_selection import train_test_split\r\n",
    "from sklearn import svm, metrics\r\n",
    "import numpy as np"
   ],
   "outputs": [],
   "metadata": {}
  },
  {
   "cell_type": "code",
   "execution_count": 3,
   "source": [
    "#loading the dataset onto a variable\r\n",
    "iris=datasets.load_iris()"
   ],
   "outputs": [],
   "metadata": {}
  },
  {
   "cell_type": "code",
   "execution_count": 4,
   "source": [
    "#Splitting the dataset into features and labels\r\n",
    "X=iris.data\r\n",
    "y=iris.target\r\n",
    "\r\n",
    "print(\"X:\", X.shape)\r\n",
    "print(\"y:\", y.shape)"
   ],
   "outputs": [
    {
     "output_type": "stream",
     "name": "stdout",
     "text": [
      "X: (150, 4)\n",
      "y: (150,)\n"
     ]
    }
   ],
   "metadata": {}
  },
  {
   "cell_type": "code",
   "execution_count": 5,
   "source": [
    "#classification attributes\r\n",
    "classes=[\" Iris Setosa\", \"Iris Versicolour\", \"Iris Virginica\"]"
   ],
   "outputs": [],
   "metadata": {}
  },
  {
   "cell_type": "code",
   "execution_count": 6,
   "source": [
    "#splitting the datainto training and test set\r\n",
    "X_train, X_test, y_train, y_test=train_test_split(X, y, train_size=0.8)"
   ],
   "outputs": [],
   "metadata": {}
  },
  {
   "cell_type": "code",
   "execution_count": 7,
   "source": [
    "#Training set\r\n",
    "print(\"Training set:\\n\\n\")\r\n",
    "print(\"X_train:\\n\", X_train)\r\n",
    "print(\"\\ny_train:\\n\", y_train)"
   ],
   "outputs": [
    {
     "output_type": "stream",
     "name": "stdout",
     "text": [
      "Training set:\n",
      "\n",
      "\n",
      "X_train:\n",
      " [[5.8 2.7 5.1 1.9]\n",
      " [5.8 2.6 4.  1.2]\n",
      " [6.1 2.8 4.7 1.2]\n",
      " [6.7 3.1 5.6 2.4]\n",
      " [5.2 3.5 1.5 0.2]\n",
      " [6.2 2.8 4.8 1.8]\n",
      " [5.6 3.  4.1 1.3]\n",
      " [5.1 3.4 1.5 0.2]\n",
      " [7.7 2.8 6.7 2. ]\n",
      " [6.8 2.8 4.8 1.4]\n",
      " [5.  2.  3.5 1. ]\n",
      " [5.8 2.7 3.9 1.2]\n",
      " [6.5 3.  5.2 2. ]\n",
      " [5.1 3.3 1.7 0.5]\n",
      " [4.7 3.2 1.3 0.2]\n",
      " [6.9 3.1 5.4 2.1]\n",
      " [4.9 3.1 1.5 0.2]\n",
      " [4.5 2.3 1.3 0.3]\n",
      " [4.8 3.  1.4 0.1]\n",
      " [6.  2.2 4.  1. ]\n",
      " [5.4 3.9 1.3 0.4]\n",
      " [4.8 3.  1.4 0.3]\n",
      " [6.9 3.1 4.9 1.5]\n",
      " [5.1 3.7 1.5 0.4]\n",
      " [5.2 2.7 3.9 1.4]\n",
      " [6.1 2.8 4.  1.3]\n",
      " [6.1 2.6 5.6 1.4]\n",
      " [5.1 3.5 1.4 0.2]\n",
      " [6.4 2.8 5.6 2.1]\n",
      " [5.5 3.5 1.3 0.2]\n",
      " [5.1 2.5 3.  1.1]\n",
      " [7.  3.2 4.7 1.4]\n",
      " [4.9 3.1 1.5 0.1]\n",
      " [6.6 3.  4.4 1.4]\n",
      " [6.3 2.9 5.6 1.8]\n",
      " [5.5 2.5 4.  1.3]\n",
      " [5.6 2.7 4.2 1.3]\n",
      " [4.6 3.6 1.  0.2]\n",
      " [4.8 3.1 1.6 0.2]\n",
      " [5.4 3.  4.5 1.5]\n",
      " [7.1 3.  5.9 2.1]\n",
      " [6.7 3.  5.  1.7]\n",
      " [4.8 3.4 1.6 0.2]\n",
      " [6.2 2.9 4.3 1.3]\n",
      " [4.6 3.4 1.4 0.3]\n",
      " [6.  3.  4.8 1.8]\n",
      " [6.4 2.9 4.3 1.3]\n",
      " [4.9 2.5 4.5 1.7]\n",
      " [5.7 2.8 4.5 1.3]\n",
      " [5.4 3.7 1.5 0.2]\n",
      " [5.7 4.4 1.5 0.4]\n",
      " [5.6 3.  4.5 1.5]\n",
      " [7.7 3.8 6.7 2.2]\n",
      " [5.  3.4 1.5 0.2]\n",
      " [7.4 2.8 6.1 1.9]\n",
      " [6.7 3.1 4.4 1.4]\n",
      " [4.4 3.2 1.3 0.2]\n",
      " [6.7 3.3 5.7 2.1]\n",
      " [5.4 3.9 1.7 0.4]\n",
      " [5.1 3.8 1.9 0.4]\n",
      " [7.9 3.8 6.4 2. ]\n",
      " [6.2 2.2 4.5 1.5]\n",
      " [7.7 3.  6.1 2.3]\n",
      " [7.2 3.2 6.  1.8]\n",
      " [5.  3.6 1.4 0.2]\n",
      " [6.3 2.5 4.9 1.5]\n",
      " [6.  3.4 4.5 1.6]\n",
      " [6.7 3.1 4.7 1.5]\n",
      " [5.9 3.  4.2 1.5]\n",
      " [5.6 2.8 4.9 2. ]\n",
      " [7.7 2.6 6.9 2.3]\n",
      " [5.8 2.7 5.1 1.9]\n",
      " [5.5 4.2 1.4 0.2]\n",
      " [5.7 2.8 4.1 1.3]\n",
      " [6.5 3.2 5.1 2. ]\n",
      " [5.4 3.4 1.7 0.2]\n",
      " [5.9 3.  5.1 1.8]\n",
      " [6.3 3.3 4.7 1.6]\n",
      " [6.2 3.4 5.4 2.3]\n",
      " [7.6 3.  6.6 2.1]\n",
      " [6.1 3.  4.6 1.4]\n",
      " [5.8 2.8 5.1 2.4]\n",
      " [5.5 2.3 4.  1.3]\n",
      " [5.1 3.8 1.6 0.2]\n",
      " [5.6 2.9 3.6 1.3]\n",
      " [7.2 3.6 6.1 2.5]\n",
      " [6.9 3.2 5.7 2.3]\n",
      " [6.6 2.9 4.6 1.3]\n",
      " [5.7 3.  4.2 1.2]\n",
      " [4.6 3.1 1.5 0.2]\n",
      " [4.9 3.  1.4 0.2]\n",
      " [6.4 3.2 4.5 1.5]\n",
      " [4.4 2.9 1.4 0.2]\n",
      " [5.  2.3 3.3 1. ]\n",
      " [4.7 3.2 1.6 0.2]\n",
      " [6.3 2.8 5.1 1.5]\n",
      " [6.7 3.3 5.7 2.5]\n",
      " [5.  3.  1.6 0.2]\n",
      " [7.3 2.9 6.3 1.8]\n",
      " [6.5 2.8 4.6 1.5]\n",
      " [5.2 3.4 1.4 0.2]\n",
      " [6.  2.2 5.  1.5]\n",
      " [5.2 4.1 1.5 0.1]\n",
      " [6.  2.9 4.5 1.5]\n",
      " [4.3 3.  1.1 0.1]\n",
      " [5.4 3.4 1.5 0.4]\n",
      " [5.  3.5 1.6 0.6]\n",
      " [5.  3.4 1.6 0.4]\n",
      " [6.8 3.  5.5 2.1]\n",
      " [5.1 3.5 1.4 0.3]\n",
      " [5.7 2.9 4.2 1.3]\n",
      " [6.7 2.5 5.8 1.8]\n",
      " [6.4 2.8 5.6 2.2]\n",
      " [5.6 2.5 3.9 1.1]\n",
      " [6.8 3.2 5.9 2.3]\n",
      " [6.5 3.  5.5 1.8]\n",
      " [6.3 2.7 4.9 1.8]\n",
      " [6.4 3.2 5.3 2.3]\n",
      " [5.8 4.  1.2 0.2]\n",
      " [4.6 3.2 1.4 0.2]]\n",
      "\n",
      "y_train:\n",
      " [2 1 1 2 0 2 1 0 2 1 1 1 2 0 0 2 0 0 0 1 0 0 1 0 1 1 2 0 2 0 1 1 0 1 2 1 1\n",
      " 0 0 1 2 1 0 1 0 2 1 2 1 0 0 1 2 0 2 1 0 2 0 0 2 1 2 2 0 1 1 1 1 2 2 2 0 1\n",
      " 2 0 2 1 2 2 1 2 1 0 1 2 2 1 1 0 0 1 0 1 0 2 2 0 2 1 0 2 0 1 0 0 0 0 2 0 1\n",
      " 2 2 1 2 2 2 2 0 0]\n"
     ]
    }
   ],
   "metadata": {}
  },
  {
   "cell_type": "code",
   "execution_count": 8,
   "source": [
    "#creating a model\r\n",
    "model=svm.SVC()"
   ],
   "outputs": [],
   "metadata": {}
  },
  {
   "cell_type": "code",
   "execution_count": 9,
   "source": [
    "#training the model\r\n",
    "model.fit(X_train, y_train)\r\n",
    "print(model)"
   ],
   "outputs": [
    {
     "output_type": "stream",
     "name": "stdout",
     "text": [
      "SVC()\n"
     ]
    }
   ],
   "metadata": {}
  },
  {
   "cell_type": "code",
   "execution_count": 10,
   "source": [
    "#prediction\r\n",
    "prediction=model.predict(X_test)\r\n",
    "print(\"\\nActual set:\\n\", y_test.ravel())\r\n",
    "print(\"\\nPredictions:\\n\", prediction)"
   ],
   "outputs": [
    {
     "output_type": "stream",
     "name": "stdout",
     "text": [
      "\n",
      "Actual set:\n",
      " [0 1 0 0 1 1 1 2 0 2 0 0 2 2 0 2 2 2 1 1 0 1 1 0 2 1 1 2 2 2]\n",
      "\n",
      "Predictions:\n",
      " [0 2 0 0 1 1 1 2 0 2 0 0 2 2 0 2 2 2 1 1 0 1 1 0 2 1 1 2 2 2]\n"
     ]
    }
   ],
   "metadata": {}
  },
  {
   "cell_type": "code",
   "execution_count": 11,
   "source": [
    "#wrong predictions\r\n",
    "#non zero values are the wrongly predicted outcomes\r\n",
    "print(\"Wrong Outcomes :\\n\", y_test.ravel()-prediction)"
   ],
   "outputs": [
    {
     "output_type": "stream",
     "name": "stdout",
     "text": [
      "Wrong Outcomes :\n",
      " [ 0 -1  0  0  0  0  0  0  0  0  0  0  0  0  0  0  0  0  0  0  0  0  0  0\n",
      "  0  0  0  0  0  0]\n"
     ]
    }
   ],
   "metadata": {}
  },
  {
   "cell_type": "code",
   "execution_count": 13,
   "source": [
    "#accuracy of the model\r\n",
    "accuracy=metrics.accuracy_score(y_test, prediction)\r\n",
    "print(\"Accuracy: \", accuracy*100, \"%\")"
   ],
   "outputs": [
    {
     "output_type": "stream",
     "name": "stdout",
     "text": [
      "Accuracy:  96.66666666666667 %\n"
     ]
    }
   ],
   "metadata": {}
  }
 ],
 "metadata": {
  "kernelspec": {
   "display_name": "Python 3",
   "language": "python",
   "name": "python3"
  },
  "language_info": {
   "codemirror_mode": {
    "name": "ipython",
    "version": 3
   },
   "file_extension": ".py",
   "mimetype": "text/x-python",
   "name": "python",
   "nbconvert_exporter": "python",
   "pygments_lexer": "ipython3",
   "version": "3.8.8"
  }
 },
 "nbformat": 4,
 "nbformat_minor": 5
}