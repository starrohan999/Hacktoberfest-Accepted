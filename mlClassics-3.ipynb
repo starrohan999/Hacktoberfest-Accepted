{
 "cells": [
  {
   "cell_type": "code",
   "execution_count": 64,
   "id": "7a1046d6",
   "metadata": {},
   "outputs": [],
   "source": [
    "#Linear regression"
   ]
  },
  {
   "cell_type": "code",
   "execution_count": 65,
   "id": "27e0609a",
   "metadata": {},
   "outputs": [],
   "source": [
    "#importing libraries\n",
    "from sklearn import datasets, linear_model, metrics\n",
    "from sklearn.model_selection import train_test_split\n",
    "import matplotlib.pyplot as plt"
   ]
  },
  {
   "cell_type": "code",
   "execution_count": 66,
   "id": "6be34131",
   "metadata": {},
   "outputs": [],
   "source": [
    "#loading the dataset\n",
    "boston=datasets.load_boston()"
   ]
  },
  {
   "cell_type": "code",
   "execution_count": 67,
   "id": "69c40b39",
   "metadata": {},
   "outputs": [],
   "source": [
    "#Splitting the dataset into features and labels\n",
    "X=boston.data\n",
    "y=boston.target"
   ]
  },
  {
   "cell_type": "code",
   "execution_count": 68,
   "id": "b31dd290",
   "metadata": {},
   "outputs": [
    {
     "name": "stdout",
     "output_type": "stream",
     "text": [
      "X:\n",
      " [[6.3200e-03 1.8000e+01 2.3100e+00 ... 1.5300e+01 3.9690e+02 4.9800e+00]\n",
      " [2.7310e-02 0.0000e+00 7.0700e+00 ... 1.7800e+01 3.9690e+02 9.1400e+00]\n",
      " [2.7290e-02 0.0000e+00 7.0700e+00 ... 1.7800e+01 3.9283e+02 4.0300e+00]\n",
      " ...\n",
      " [6.0760e-02 0.0000e+00 1.1930e+01 ... 2.1000e+01 3.9690e+02 5.6400e+00]\n",
      " [1.0959e-01 0.0000e+00 1.1930e+01 ... 2.1000e+01 3.9345e+02 6.4800e+00]\n",
      " [4.7410e-02 0.0000e+00 1.1930e+01 ... 2.1000e+01 3.9690e+02 7.8800e+00]] \n",
      " (506, 13)\n",
      "\n",
      "\n",
      "y:\n",
      " [24.  21.6 34.7 33.4 36.2 28.7 22.9 27.1 16.5 18.9 15.  18.9 21.7 20.4\n",
      " 18.2 19.9 23.1 17.5 20.2 18.2 13.6 19.6 15.2 14.5 15.6 13.9 16.6 14.8\n",
      " 18.4 21.  12.7 14.5 13.2 13.1 13.5 18.9 20.  21.  24.7 30.8 34.9 26.6\n",
      " 25.3 24.7 21.2 19.3 20.  16.6 14.4 19.4 19.7 20.5 25.  23.4 18.9 35.4\n",
      " 24.7 31.6 23.3 19.6 18.7 16.  22.2 25.  33.  23.5 19.4 22.  17.4 20.9\n",
      " 24.2 21.7 22.8 23.4 24.1 21.4 20.  20.8 21.2 20.3 28.  23.9 24.8 22.9\n",
      " 23.9 26.6 22.5 22.2 23.6 28.7 22.6 22.  22.9 25.  20.6 28.4 21.4 38.7\n",
      " 43.8 33.2 27.5 26.5 18.6 19.3 20.1 19.5 19.5 20.4 19.8 19.4 21.7 22.8\n",
      " 18.8 18.7 18.5 18.3 21.2 19.2 20.4 19.3 22.  20.3 20.5 17.3 18.8 21.4\n",
      " 15.7 16.2 18.  14.3 19.2 19.6 23.  18.4 15.6 18.1 17.4 17.1 13.3 17.8\n",
      " 14.  14.4 13.4 15.6 11.8 13.8 15.6 14.6 17.8 15.4 21.5 19.6 15.3 19.4\n",
      " 17.  15.6 13.1 41.3 24.3 23.3 27.  50.  50.  50.  22.7 25.  50.  23.8\n",
      " 23.8 22.3 17.4 19.1 23.1 23.6 22.6 29.4 23.2 24.6 29.9 37.2 39.8 36.2\n",
      " 37.9 32.5 26.4 29.6 50.  32.  29.8 34.9 37.  30.5 36.4 31.1 29.1 50.\n",
      " 33.3 30.3 34.6 34.9 32.9 24.1 42.3 48.5 50.  22.6 24.4 22.5 24.4 20.\n",
      " 21.7 19.3 22.4 28.1 23.7 25.  23.3 28.7 21.5 23.  26.7 21.7 27.5 30.1\n",
      " 44.8 50.  37.6 31.6 46.7 31.5 24.3 31.7 41.7 48.3 29.  24.  25.1 31.5\n",
      " 23.7 23.3 22.  20.1 22.2 23.7 17.6 18.5 24.3 20.5 24.5 26.2 24.4 24.8\n",
      " 29.6 42.8 21.9 20.9 44.  50.  36.  30.1 33.8 43.1 48.8 31.  36.5 22.8\n",
      " 30.7 50.  43.5 20.7 21.1 25.2 24.4 35.2 32.4 32.  33.2 33.1 29.1 35.1\n",
      " 45.4 35.4 46.  50.  32.2 22.  20.1 23.2 22.3 24.8 28.5 37.3 27.9 23.9\n",
      " 21.7 28.6 27.1 20.3 22.5 29.  24.8 22.  26.4 33.1 36.1 28.4 33.4 28.2\n",
      " 22.8 20.3 16.1 22.1 19.4 21.6 23.8 16.2 17.8 19.8 23.1 21.  23.8 23.1\n",
      " 20.4 18.5 25.  24.6 23.  22.2 19.3 22.6 19.8 17.1 19.4 22.2 20.7 21.1\n",
      " 19.5 18.5 20.6 19.  18.7 32.7 16.5 23.9 31.2 17.5 17.2 23.1 24.5 26.6\n",
      " 22.9 24.1 18.6 30.1 18.2 20.6 17.8 21.7 22.7 22.6 25.  19.9 20.8 16.8\n",
      " 21.9 27.5 21.9 23.1 50.  50.  50.  50.  50.  13.8 13.8 15.  13.9 13.3\n",
      " 13.1 10.2 10.4 10.9 11.3 12.3  8.8  7.2 10.5  7.4 10.2 11.5 15.1 23.2\n",
      "  9.7 13.8 12.7 13.1 12.5  8.5  5.   6.3  5.6  7.2 12.1  8.3  8.5  5.\n",
      " 11.9 27.9 17.2 27.5 15.  17.2 17.9 16.3  7.   7.2  7.5 10.4  8.8  8.4\n",
      " 16.7 14.2 20.8 13.4 11.7  8.3 10.2 10.9 11.   9.5 14.5 14.1 16.1 14.3\n",
      " 11.7 13.4  9.6  8.7  8.4 12.8 10.5 17.1 18.4 15.4 10.8 11.8 14.9 12.6\n",
      " 14.1 13.  13.4 15.2 16.1 17.8 14.9 14.1 12.7 13.5 14.9 20.  16.4 17.7\n",
      " 19.5 20.2 21.4 19.9 19.  19.1 19.1 20.1 19.9 19.6 23.2 29.8 13.8 13.3\n",
      " 16.7 12.  14.6 21.4 23.  23.7 25.  21.8 20.6 21.2 19.1 20.6 15.2  7.\n",
      "  8.1 13.6 20.1 21.8 24.5 23.1 19.7 18.3 21.2 17.5 16.8 22.4 20.6 23.9\n",
      " 22.  11.9] \n",
      " (506,)\n"
     ]
    }
   ],
   "source": [
    "#printing the data\n",
    "\n",
    "#X:\n",
    "print(\"X:\\n\", X, \"\\n\", X.shape)\n",
    "\n",
    "#y:\n",
    "print(\"\\n\\ny:\\n\", y, \"\\n\", y.shape)"
   ]
  },
  {
   "cell_type": "code",
   "execution_count": 69,
   "id": "3c0f632f",
   "metadata": {},
   "outputs": [],
   "source": [
    "#linear regression\n",
    "linreg=linear_model.LinearRegression()"
   ]
  },
  {
   "cell_type": "code",
   "execution_count": 70,
   "id": "3bf0cf26",
   "metadata": {},
   "outputs": [
    {
     "data": {
      "image/png": "[encoded data removed]",
      "text/plain": [
       "<Figure size 432x288 with 1 Axes>"
      ]
     },
     "metadata": {
      "needs_background": "light"
     },
     "output_type": "display_data"
    }
   ],
   "source": [
    "#plotting the data (checking which graph may give us the best results)\n",
    "plt.scatter(X.T[5], y)\n",
    "plt.show()"
   ]
  },
  {
   "cell_type": "code",
   "execution_count": 71,
   "id": "6f371a6e",
   "metadata": {},
   "outputs": [],
   "source": [
    "#splitting the data into training set and test set\n",
    "X_train, X_test, y_train, y_test=train_test_split(X, y, test_size=0.2)"
   ]
  },
  {
   "cell_type": "code",
   "execution_count": 72,
   "id": "19d08ca1",
   "metadata": {},
   "outputs": [
    {
     "name": "stdout",
     "output_type": "stream",
     "text": [
      "LinearRegression()\n"
     ]
    }
   ],
   "source": [
    "#training our model\n",
    "model=linreg.fit(X_train, y_train)\n",
    "print(model)"
   ]
  },
  {
   "cell_type": "code",
   "execution_count": 73,
   "id": "43f125e0",
   "metadata": {},
   "outputs": [
    {
     "name": "stdout",
     "output_type": "stream",
     "text": [
      "Prediction:\n",
      " [30.43819703 30.62193435  8.6380372  42.21513715 19.78028314 33.29118885\n",
      " 15.24186453  9.7350355  27.56554905  4.05471571 23.83100147 41.49071645\n",
      " 11.3919698  18.83353999 40.36370044 20.27789848 22.77612731 23.84373732\n",
      " 36.38864246 22.32165354 23.79380167 24.54298423 14.42815567 33.34513051\n",
      " 17.70677306 37.43203545 21.33149772 32.77768412 24.35799266 22.4938737\n",
      " 16.85220495 23.41532158 26.9249989   5.62916799 14.0265181  24.74712254\n",
      " 14.12738075 26.83014976 30.15581264 17.83142146 32.0413031  19.45332439\n",
      " 16.03355052 15.0482318  22.21251644 14.22205976 17.59196388 26.48665209\n",
      " 15.48481686 21.79426427 18.41313276 31.34027377 24.17997257 19.94909055\n",
      " 30.65622881 28.71909673 36.27553659 28.25661398 12.76746236 39.71908701\n",
      " 18.98309697 24.9779811  15.88863143 20.75700506 36.31377271 14.04211342\n",
      " 13.23522241 19.2219279  19.35480339 38.18571765 19.70259323 14.71912759\n",
      " 27.53007661 10.28245171 27.33793863 22.42639482 20.17665372 21.04115589\n",
      " 17.13786337 19.89250387 28.14559365 24.36860227 21.33949739 13.09168988\n",
      " 20.89865852 21.47857767 19.45121019 17.79451641 22.15627309 20.15134078\n",
      " 19.61373535 22.04360442 28.09475483 37.38056073 27.32807541 31.99500271\n",
      " 26.34219545 33.88247333 27.96653785 34.78172296 24.78316418 26.64491577]\n",
      "\n",
      "\n",
      "Actual set:\n",
      " [30.5 30.7 14.6 50.  13.1 28.5 16.2  9.7 22.3  8.1 21.7 48.5 12.  16.4\n",
      " 46.  21.7 17.4 24.4 50.  20.3 21.4 23.9  8.4 27.  17.4 44.  15.3 31.7\n",
      " 20.5 16.5 23.2 24.4 20.6 13.8 13.5 28.1 14.3 25.2 29.4 19.4 29.  19.6\n",
      " 14.1 11.7 20.  11.  19.9 23.8 17.2 21.2 14.5 30.8 50.  17.8 23.5 31.2\n",
      " 48.3 24.4 13.6 50.  15.2 21.9 17.4 16.2 33.3 18.5 12.7 15.  13.3 45.4\n",
      " 18.4 13.1 26.6 23.7 36.2 11.9 24.5 20.9 18.1 21.4 22.8 22.2 20.1 11.3\n",
      " 21.  21.4 19.5 22.5 21.4 23.  18.2 18.9 28.7 44.8 23.2 31.1 22.6 39.8\n",
      " 23.9 30.1 29.8 22.3]\n"
     ]
    }
   ],
   "source": [
    "#prediction\n",
    "prediction=model.predict(X_test)\n",
    "print(\"Prediction:\\n\", prediction)\n",
    "print(\"\\n\\nActual set:\\n\", y_test)"
   ]
  },
  {
   "cell_type": "code",
   "execution_count": 74,
   "id": "aaeae877",
   "metadata": {},
   "outputs": [
    {
     "name": "stdout",
     "output_type": "stream",
     "text": [
      "Score : 73.85703504888387\n"
     ]
    }
   ],
   "source": [
    "#R^2 value\n",
    "print(\"Score :\", linreg.score(X, y)*100)"
   ]
  },
  {
   "cell_type": "code",
   "execution_count": 75,
   "id": "8c3803b0",
   "metadata": {},
   "outputs": [
    {
     "name": "stdout",
     "output_type": "stream",
     "text": [
      "Coefficients :\n",
      " [-9.89677639e-02  5.01595507e-02  1.55715951e-02  3.23621719e+00\n",
      " -1.65205716e+01  3.38889143e+00  9.36330942e-03 -1.29092811e+00\n",
      "  2.70772478e-01 -1.11777637e-02 -9.37176317e-01  7.03708164e-03\n",
      " -5.54201307e-01]\n",
      "\n",
      "\n",
      "Intercept :\n",
      " 37.78935776186695\n"
     ]
    }
   ],
   "source": [
    "#coefficients and intercept\n",
    "print(\"Coefficients :\\n\", linreg.coef_)\n",
    "print(\"\\n\\nIntercept :\\n\", linreg.intercept_)"
   ]
  }
 ],
 "metadata": {
  "kernelspec": {
   "display_name": "Python 3",
   "language": "python",
   "name": "python3"
  },
  "language_info": {
   "codemirror_mode": {
    "name": "ipython",
    "version": 3
   },
   "file_extension": ".py",
   "mimetype": "text/x-python",
   "name": "python",
   "nbconvert_exporter": "python",
   "pygments_lexer": "ipython3",
   "version": "3.8.8"
  }
 },
 "nbformat": 4,
 "nbformat_minor": 5
}
