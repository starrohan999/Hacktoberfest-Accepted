{
 "cells": [
  {
   "cell_type": "code",
   "execution_count": 52,
   "id": "0e6d69db",
   "metadata": {},
   "outputs": [],
   "source": [
    "#car class prediction using k-nearest neighbors method(kNN)"
   ]
  },
  {
   "cell_type": "code",
   "execution_count": 80,
   "id": "2a699080",
   "metadata": {},
   "outputs": [],
   "source": [
    "#importing libraries\n",
    "import numpy as np\n",
    "import pandas as pd\n",
    "from sklearn import neighbors, metrics, svm\n",
    "from sklearn.model_selection import train_test_split\n",
    "from sklearn.preprocessing import LabelEncoder"
   ]
  },
  {
   "cell_type": "code",
   "execution_count": 81,
   "id": "c5612d90",
   "metadata": {},
   "outputs": [
    {
     "name": "stdout",
     "output_type": "stream",
     "text": [
      "  buying  maint doors persons lug_boot safety  class\n",
      "0  vhigh  vhigh     2       2    small    low  unacc\n",
      "1  vhigh  vhigh     2       2    small    med  unacc\n",
      "2  vhigh  vhigh     2       2    small   high  unacc\n",
      "3  vhigh  vhigh     2       2      med    low  unacc\n",
      "4  vhigh  vhigh     2       2      med    med  unacc\n"
     ]
    }
   ],
   "source": [
    "#loading the dataset\n",
    "data=pd.read_csv(r\"C:\\Users\\Maitreya\\JupyterNotebooks\\datasets\\car.data\")\n",
    "print(data.head())"
   ]
  },
  {
   "cell_type": "code",
   "execution_count": 82,
   "id": "08b26f33",
   "metadata": {},
   "outputs": [],
   "source": [
    "#extracting required features\n",
    "X=data[['buying', 'maint', 'safety']].values\n",
    "y=data[['class']]"
   ]
  },
  {
   "cell_type": "code",
   "execution_count": 83,
   "id": "1d2054ac",
   "metadata": {},
   "outputs": [
    {
     "name": "stdout",
     "output_type": "stream",
     "text": [
      "X:\n",
      " [[3 3 1]\n",
      " [3 3 2]\n",
      " [3 3 0]\n",
      " ...\n",
      " [1 1 1]\n",
      " [1 1 2]\n",
      " [1 1 0]]\n",
      "\n",
      "y:\n",
      " [[0]\n",
      " [0]\n",
      " [0]\n",
      " ...\n",
      " [0]\n",
      " [2]\n",
      " [3]]\n"
     ]
    },
    {
     "name": "stderr",
     "output_type": "stream",
     "text": [
      "<ipython-input-83-a62eb665567c>:16: SettingWithCopyWarning: \n",
      "A value is trying to be set on a copy of a slice from a DataFrame.\n",
      "Try using .loc[row_indexer,col_indexer] = value instead\n",
      "\n",
      "See the caveats in the documentation: https://pandas.pydata.org/pandas-docs/stable/user_guide/indexing.html#returning-a-view-versus-a-copy\n",
      "  y['class']=y['class'].map(label_mapping)\n"
     ]
    }
   ],
   "source": [
    "#converting the data\n",
    "#X\n",
    "Le=LabelEncoder()\n",
    "for i in range(len(X[0])):\n",
    "    X[:, i]=Le.fit_transform(X[:, i])\n",
    "    \n",
    "print(\"X:\\n\", X)\n",
    "\n",
    "#y\n",
    "label_mapping={\n",
    "    'unacc':0,\n",
    "    'acc':1,\n",
    "    'good':2,\n",
    "    'vgood':3\n",
    "}\n",
    "y['class']=y['class'].map(label_mapping)\n",
    "y=np.array(y)\n",
    "\n",
    "print(\"\\ny:\\n\", y)"
   ]
  },
  {
   "cell_type": "code",
   "execution_count": 84,
   "id": "63b3dc0a",
   "metadata": {},
   "outputs": [
    {
     "data": {
      "text/plain": [
       "KNeighborsClassifier(n_neighbors=25)"
      ]
     },
     "execution_count": 84,
     "metadata": {},
     "output_type": "execute_result"
    }
   ],
   "source": [
    "#creating the model\n",
    "knn=neighbors.KNeighborsClassifier(n_neighbors=25, weights=\"uniform\")\n",
    "X_train, X_test, y_train, y_test=train_test_split(X, y, test_size=0.2)\n",
    "knn.fit(X_train, y_train.ravel())"
   ]
  },
  {
   "cell_type": "code",
   "execution_count": 85,
   "id": "e85e1119",
   "metadata": {},
   "outputs": [
    {
     "name": "stdout",
     "output_type": "stream",
     "text": [
      "Car classes:\n",
      " unacc:0, acc:1, good:2, vgood:3\n",
      "\n",
      "Actual set:\n",
      " [0 0 0 1 1 0 0 0 1 1 0 0 0 0 0 0 0 0 1 0 0 0 0 0 0 0 0 0 0 0 1 0 0 0 0 0 0\n",
      " 1 0 1 0 1 0 0 0 1 0 1 0 0 3 0 3 1 0 1 1 0 0 1 0 1 0 1 0 0 0 2 1 0 0 0 1 0\n",
      " 0 1 1 0 0 0 1 0 0 1 1 0 0 0 0 2 0 0 0 1 0 0 0 0 0 0 2 0 2 0 0 0 0 0 0 0 0\n",
      " 1 0 2 0 0 1 1 2 0 2 0 0 1 1 1 1 0 1 0 0 0 0 0 0 0 0 0 0 0 0 0 1 0 0 0 0 0\n",
      " 1 1 0 0 1 0 0 0 0 0 0 1 0 0 0 1 0 0 2 1 1 0 1 0 0 0 0 0 0 0 0 0 2 1 1 0 1\n",
      " 2 0 2 1 0 0 0 0 0 1 1 0 1 0 0 0 1 1 0 1 0 1 1 0 0 0 0 0 0 0 0 0 1 0 0 0 0\n",
      " 2 3 0 0 0 1 0 1 0 1 0 1 0 1 0 0 0 1 0 1 0 1 0 0 0 0 3 0 0 0 1 0 0 0 2 0 1\n",
      " 0 0 1 0 0 1 0 0 0 1 0 0 1 0 0 0 1 0 1 1 0 0 0 0 1 0 1 0 0 0 0 0 3 0 0 0 1\n",
      " 0 0 1 0 0 0 1 1 1 0 0 0 0 1 0 2 0 0 0 0 1 0 1 2 0 0 0 0 0 0 1 1 0 0 0 1 2\n",
      " 0 3 1 2 0 1 0 0 0 1 0 0 1]\n",
      "\n",
      "Predictions:\n",
      " [3 0 0 3 0 0 0 0 0 0 0 0 0 0 0 0 0 0 1 0 0 0 0 1 0 0 0 0 1 0 1 0 0 0 1 2 2\n",
      " 1 0 0 0 0 3 0 0 1 0 1 0 0 0 0 3 1 0 0 1 0 0 1 0 1 0 1 0 0 0 0 0 0 1 0 0 0\n",
      " 0 1 1 0 0 0 1 0 0 1 1 0 0 0 0 0 0 0 0 1 0 0 0 0 0 0 0 0 0 0 0 0 0 0 0 0 0\n",
      " 1 3 0 0 0 1 1 0 3 0 0 0 0 1 1 1 0 0 1 0 0 0 0 0 0 0 0 0 0 1 0 1 1 0 0 1 0\n",
      " 0 1 0 1 1 0 0 0 0 0 0 0 0 0 0 1 0 0 3 0 1 0 1 0 0 0 0 0 0 0 0 0 0 1 1 0 0\n",
      " 3 0 3 0 0 0 0 1 0 1 1 0 0 0 0 1 0 1 0 1 0 0 0 0 0 2 0 0 0 3 0 0 0 0 0 0 0\n",
      " 0 3 0 0 0 1 3 1 0 1 1 0 0 1 0 0 0 0 0 1 0 1 0 0 0 1 3 0 1 0 0 0 0 0 2 0 1\n",
      " 0 0 1 0 0 1 0 0 0 1 2 0 1 0 0 0 1 0 1 1 0 0 0 0 1 0 0 0 0 1 0 0 0 0 0 1 0\n",
      " 0 0 0 0 3 0 1 1 2 0 0 1 0 1 0 2 0 0 0 1 1 0 1 2 0 0 0 0 0 0 0 1 1 0 0 0 0\n",
      " 0 0 1 0 0 1 0 0 1 1 0 0 1]\n"
     ]
    }
   ],
   "source": [
    "#car classes\n",
    "print(\"Car classes:\\n unacc:0, acc:1, good:2, vgood:3\")\n",
    "\n",
    "#prediction and accuracy\n",
    "prediction=knn.predict(X_test)\n",
    "print(\"\\nActual set:\\n\", y_test.ravel())\n",
    "print(\"\\nPredictions:\\n\", prediction)"
   ]
  },
  {
   "cell_type": "code",
   "execution_count": 86,
   "id": "42fc5b19",
   "metadata": {},
   "outputs": [
    {
     "name": "stdout",
     "output_type": "stream",
     "text": [
      "Wrong Outcomes :\n",
      " [-3  0  0 -2  1  0  0  0  1  1  0  0  0  0  0  0  0  0  0  0  0  0  0 -1\n",
      "  0  0  0  0 -1  0  0  0  0  0 -1 -2 -2  0  0  1  0  1 -3  0  0  0  0  0\n",
      "  0  0  3  0  0  0  0  1  0  0  0  0  0  0  0  0  0  0  0  2  1  0 -1  0\n",
      "  1  0  0  0  0  0  0  0  0  0  0  0  0  0  0  0  0  2  0  0  0  0  0  0\n",
      "  0  0  0  0  2  0  2  0  0  0  0  0  0  0  0  0 -3  2  0  0  0  0  2 -3\n",
      "  2  0  0  1  0  0  0  0  1 -1  0  0  0  0  0  0  0  0  0  0 -1  0  0 -1\n",
      "  0  0 -1  0  1  0  0 -1  0  0  0  0  0  0  0  1  0  0  0  0  0  0 -1  1\n",
      "  0  0  0  0  0  0  0  0  0  0  0  0  2  0  0  0  1 -1  0 -1  1  0  0  0\n",
      " -1  0  0  0  0  1  0  0 -1  1  0  0  0  0  1  1  0  0 -2  0  0  0 -3  0\n",
      "  0  1  0  0  0  0  2  0  0  0  0  0 -3  0  0  0 -1  1  0  0  0  0  0  1\n",
      "  0  0  0  0  0  0  0 -1  0  0 -1  0  1  0  0  0  0  0  0  0  0  0  0  0\n",
      "  0  0  0  0  0 -2  0  0  0  0  0  0  0  0  0  0  0  0  0  0  0  1  0  0\n",
      " -1  0  0  3  0  0 -1  1  0  0  1  0 -3  0  0  0 -1  0  0 -1  0  0  0  0\n",
      "  0  0  0 -1  0  0  0  0  0  0  0  0  0  0  1  0 -1  0  0  1  2  0  3  0\n",
      "  2  0  0  0  0 -1  0  0  0  0]\n"
     ]
    }
   ],
   "source": [
    "#wrong predictions\n",
    "#non zero values are the wrongly predicted outcomes\n",
    "print(\"Wrong Outcomes :\\n\", y_test.ravel()-prediction)"
   ]
  },
  {
   "cell_type": "code",
   "execution_count": 88,
   "id": "266c4d6a",
   "metadata": {},
   "outputs": [
    {
     "name": "stdout",
     "output_type": "stream",
     "text": [
      "Accuracy:  77.45664739884393 %\n"
     ]
    }
   ],
   "source": [
    "#accuracy of the model\n",
    "accuracy=metrics.accuracy_score(y_test, prediction)\n",
    "print(\"Accuracy: \", accuracy*100, \"%\")"
   ]
  },
  {
   "cell_type": "code",
   "execution_count": null,
   "id": "6841f6b6",
   "metadata": {},
   "outputs": [],
   "source": []
  }
 ],
 "metadata": {
  "kernelspec": {
   "display_name": "Python 3",
   "language": "python",
   "name": "python3"
  },
  "language_info": {
   "codemirror_mode": {
    "name": "ipython",
    "version": 3
   },
   "file_extension": ".py",
   "mimetype": "text/x-python",
   "name": "python",
   "nbconvert_exporter": "python",
   "pygments_lexer": "ipython3",
   "version": "3.8.8"
  }
 },
 "nbformat": 4,
 "nbformat_minor": 5
}
